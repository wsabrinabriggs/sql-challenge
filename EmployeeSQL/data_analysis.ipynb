{
 "cells": [
  {
   "cell_type": "code",
   "execution_count": null,
   "id": "481ebad2",
   "metadata": {},
   "outputs": [],
   "source": []
  },
  {
   "cell_type": "code",
   "execution_count": null,
   "id": "4ec53ada",
   "metadata": {},
   "outputs": [],
   "source": [
    "#List the employee number, last name, first name, sex, and salary of each employee (2 points)"
   ]
  },
  {
   "cell_type": "code",
   "execution_count": null,
   "id": "ca011144",
   "metadata": {},
   "outputs": [],
   "source": []
  },
  {
   "cell_type": "code",
   "execution_count": null,
   "id": "6bed58cb",
   "metadata": {},
   "outputs": [],
   "source": []
  },
  {
   "cell_type": "code",
   "execution_count": null,
   "id": "4ec353da",
   "metadata": {},
   "outputs": [],
   "source": []
  },
  {
   "cell_type": "code",
   "execution_count": null,
   "id": "df137b54",
   "metadata": {},
   "outputs": [],
   "source": [
    "#List the first name, last name, and hire date for the employees who were hired in 1986 (2 points)"
   ]
  },
  {
   "cell_type": "code",
   "execution_count": null,
   "id": "deb87d01",
   "metadata": {},
   "outputs": [],
   "source": []
  },
  {
   "cell_type": "code",
   "execution_count": null,
   "id": "73edcaa3",
   "metadata": {},
   "outputs": [],
   "source": [
    "#List the manager of each department along with their department number, department name, employee number, last name,\n",
    "#and first name (2 points)"
   ]
  },
  {
   "cell_type": "code",
   "execution_count": null,
   "id": "fe437a0b",
   "metadata": {},
   "outputs": [],
   "source": []
  },
  {
   "cell_type": "code",
   "execution_count": null,
   "id": "6bc88935",
   "metadata": {},
   "outputs": [],
   "source": [
    "#List the department number for each employee along with that employee’s employee number, last name, first name,\n",
    "#and department name (2 points)"
   ]
  },
  {
   "cell_type": "code",
   "execution_count": null,
   "id": "89874bba",
   "metadata": {},
   "outputs": [],
   "source": []
  },
  {
   "cell_type": "code",
   "execution_count": null,
   "id": "69a42883",
   "metadata": {},
   "outputs": [],
   "source": [
    "#List first name, last name, and sex of each employee whose first name is Hercules and \n",
    "#whose last name begins with the letter B (2 points)"
   ]
  },
  {
   "cell_type": "code",
   "execution_count": null,
   "id": "97a746cd",
   "metadata": {},
   "outputs": [],
   "source": []
  },
  {
   "cell_type": "code",
   "execution_count": null,
   "id": "83681cf2",
   "metadata": {},
   "outputs": [],
   "source": [
    "#List each employee in the Sales department, including their employee number, last name, and first name (2 points)\n"
   ]
  },
  {
   "cell_type": "code",
   "execution_count": null,
   "id": "1abedbd9",
   "metadata": {},
   "outputs": [],
   "source": []
  },
  {
   "cell_type": "code",
   "execution_count": null,
   "id": "4a0430af",
   "metadata": {},
   "outputs": [],
   "source": [
    "#List each employee in the Sales and Development departments, including their employee number, last name, first name,\n",
    "#and department name (4 points)\n"
   ]
  },
  {
   "cell_type": "code",
   "execution_count": null,
   "id": "31a9093f",
   "metadata": {},
   "outputs": [],
   "source": []
  },
  {
   "cell_type": "code",
   "execution_count": null,
   "id": "dab58515",
   "metadata": {},
   "outputs": [],
   "source": [
    "#List the frequency counts, in descending order, of all the employee last names \n",
    "#(that is, how many employees share each last name) (4 points)"
   ]
  },
  {
   "cell_type": "code",
   "execution_count": null,
   "id": "8bd2dfa7",
   "metadata": {},
   "outputs": [],
   "source": []
  }
 ],
 "metadata": {
  "kernelspec": {
   "display_name": "Python 3 (ipykernel)",
   "language": "python",
   "name": "python3"
  },
  "language_info": {
   "codemirror_mode": {
    "name": "ipython",
    "version": 3
   },
   "file_extension": ".py",
   "mimetype": "text/x-python",
   "name": "python",
   "nbconvert_exporter": "python",
   "pygments_lexer": "ipython3",
   "version": "3.10.11"
  }
 },
 "nbformat": 4,
 "nbformat_minor": 5
}
